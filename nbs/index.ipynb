{
 "cells": [
  {
   "cell_type": "code",
   "execution_count": null,
   "metadata": {},
   "outputs": [],
   "source": [
    "#hide\n",
    "from graphped.plot import *"
   ]
  },
  {
   "cell_type": "markdown",
   "metadata": {},
   "source": [
    "# GraphPed: a novel graph-based visualization method for large and complex pedigrees\n",
    "\n",
    "> It can deal with complex families, wrong pedigrees, and multiple groups in a family.\n",
    "\n",
    "> It can help to check pedigrees. \n",
    "\n",
    "> It can show multiple traits or status in one pedigree.\n",
    "\n",
    "> It can show pedigrees in jupyter notebook and output as common image format (pdf, svg, png)."
   ]
  },
  {
   "cell_type": "markdown",
   "metadata": {},
   "source": [
    "This file will become your README and also the index of your documentation."
   ]
  },
  {
   "cell_type": "markdown",
   "metadata": {},
   "source": [
    "## Install"
   ]
  },
  {
   "cell_type": "markdown",
   "metadata": {},
   "source": [
    "`pip install graphped`"
   ]
  },
  {
   "cell_type": "markdown",
   "metadata": {},
   "source": [
    "## Setting the attribute yaml file"
   ]
  },
  {
   "cell_type": "markdown",
   "metadata": {},
   "source": [
    "An example of yaml file."
   ]
  },
  {
   "cell_type": "code",
   "execution_count": null,
   "metadata": {},
   "outputs": [
    {
     "name": "stdout",
     "output_type": "stream",
     "text": [
      "Overwriting default.yaml\n"
     ]
    }
   ],
   "source": [
    "%%writefile data/default.yaml\n",
    "\n",
    "trait1:\n",
    "    fillcolor:\n",
    "        1: 'white'\n",
    "        2: 'dimgrey'\n",
    "        -9: 'aquamarine3'\n",
    "\n",
    "trait2:\n",
    "    style:\n",
    "        True: filled,setlinewidth(4)\n",
    "        False: filled\n",
    "    \n",
    "\n",
    "trait3:\n",
    "    fontcolor:\n",
    "        True: darkorange\n",
    "        False: black\n",
    "    "
   ]
  },
  {
   "cell_type": "code",
   "execution_count": null,
   "metadata": {},
   "outputs": [],
   "source": [
    "attrs=load_yaml('data/default.yaml')"
   ]
  },
  {
   "cell_type": "code",
   "execution_count": null,
   "metadata": {},
   "outputs": [
    {
     "data": {
      "text/plain": [
       "{'trait1': {'fillcolor': {1: 'white', 2: 'dimgrey', -9: 'aquamarine3'}},\n",
       " 'trait2': {'style': {True: 'filled,setlinewidth(4)', False: 'filled'}},\n",
       " 'trait3': {'fontcolor': {True: 'darkorange', False: 'black'}}}"
      ]
     },
     "execution_count": null,
     "metadata": {},
     "output_type": "execute_result"
    }
   ],
   "source": [
    "attrs"
   ]
  },
  {
   "cell_type": "code",
   "execution_count": null,
   "metadata": {},
   "outputs": [],
   "source": []
  },
  {
   "cell_type": "markdown",
   "metadata": {},
   "source": [
    "## How to use"
   ]
  },
  {
   "cell_type": "markdown",
   "metadata": {},
   "source": [
    "#### 1. In command line"
   ]
  },
  {
   "cell_type": "code",
   "execution_count": null,
   "metadata": {},
   "outputs": [],
   "source": []
  },
  {
   "cell_type": "markdown",
   "metadata": {},
   "source": [
    "#### 2.In jupyter notebook"
   ]
  },
  {
   "cell_type": "code",
   "execution_count": null,
   "metadata": {},
   "outputs": [],
   "source": []
  },
  {
   "cell_type": "markdown",
   "metadata": {},
   "source": [
    "Two example pedigrees. one is standard, one is extended with 3 traits."
   ]
  },
  {
   "cell_type": "markdown",
   "metadata": {},
   "source": [
    "#### Standard ped file"
   ]
  },
  {
   "cell_type": "code",
   "execution_count": null,
   "metadata": {},
   "outputs": [
    {
     "name": "stdout",
     "output_type": "stream",
     "text": [
      "Overwriting data/example_fam.ped\n"
     ]
    }
   ],
   "source": [
    "%%writefile data/example_fam.ped\n",
    "Fam\tF4\tP3\tF1\t1\t1\n",
    "Fam\tF3\tP3\tF1\t2\t1\n",
    "Fam\tF2\tP3\tF1\t2\t1\n",
    "Fam\tF1\tP1\tP2\t2\t2\n",
    "Fam\tP3\t0\t0\t1\t2\n",
    "Fam\tP1\t0\t0\t1\t-9\n",
    "Fam\tP2\t0\t0\t2\t-9"
   ]
  },
  {
   "cell_type": "code",
   "execution_count": null,
   "metadata": {},
   "outputs": [],
   "source": [
    "fam=readped('data/example_fam.ped')"
   ]
  },
  {
   "cell_type": "code",
   "execution_count": null,
   "metadata": {},
   "outputs": [
    {
     "data": {
      "text/html": [
       "<div>\n",
       "<style scoped>\n",
       "    .dataframe tbody tr th:only-of-type {\n",
       "        vertical-align: middle;\n",
       "    }\n",
       "\n",
       "    .dataframe tbody tr th {\n",
       "        vertical-align: top;\n",
       "    }\n",
       "\n",
       "    .dataframe thead th {\n",
       "        text-align: right;\n",
       "    }\n",
       "</style>\n",
       "<table border=\"1\" class=\"dataframe\">\n",
       "  <thead>\n",
       "    <tr style=\"text-align: right;\">\n",
       "      <th></th>\n",
       "      <th>fid</th>\n",
       "      <th>iid</th>\n",
       "      <th>fathid</th>\n",
       "      <th>mothid</th>\n",
       "      <th>sex</th>\n",
       "      <th>trait</th>\n",
       "    </tr>\n",
       "  </thead>\n",
       "  <tbody>\n",
       "    <tr>\n",
       "      <th>0</th>\n",
       "      <td>Fam</td>\n",
       "      <td>F4</td>\n",
       "      <td>P3</td>\n",
       "      <td>F1</td>\n",
       "      <td>1</td>\n",
       "      <td>1</td>\n",
       "    </tr>\n",
       "    <tr>\n",
       "      <th>1</th>\n",
       "      <td>Fam</td>\n",
       "      <td>F3</td>\n",
       "      <td>P3</td>\n",
       "      <td>F1</td>\n",
       "      <td>2</td>\n",
       "      <td>1</td>\n",
       "    </tr>\n",
       "    <tr>\n",
       "      <th>2</th>\n",
       "      <td>Fam</td>\n",
       "      <td>F2</td>\n",
       "      <td>P3</td>\n",
       "      <td>F1</td>\n",
       "      <td>2</td>\n",
       "      <td>1</td>\n",
       "    </tr>\n",
       "    <tr>\n",
       "      <th>3</th>\n",
       "      <td>Fam</td>\n",
       "      <td>F1</td>\n",
       "      <td>P1</td>\n",
       "      <td>P2</td>\n",
       "      <td>2</td>\n",
       "      <td>2</td>\n",
       "    </tr>\n",
       "    <tr>\n",
       "      <th>4</th>\n",
       "      <td>Fam</td>\n",
       "      <td>P3</td>\n",
       "      <td>0</td>\n",
       "      <td>0</td>\n",
       "      <td>1</td>\n",
       "      <td>2</td>\n",
       "    </tr>\n",
       "    <tr>\n",
       "      <th>5</th>\n",
       "      <td>Fam</td>\n",
       "      <td>P1</td>\n",
       "      <td>0</td>\n",
       "      <td>0</td>\n",
       "      <td>1</td>\n",
       "      <td>-9</td>\n",
       "    </tr>\n",
       "    <tr>\n",
       "      <th>6</th>\n",
       "      <td>Fam</td>\n",
       "      <td>P2</td>\n",
       "      <td>0</td>\n",
       "      <td>0</td>\n",
       "      <td>2</td>\n",
       "      <td>-9</td>\n",
       "    </tr>\n",
       "  </tbody>\n",
       "</table>\n",
       "</div>"
      ],
      "text/plain": [
       "   fid iid fathid mothid  sex  trait\n",
       "0  Fam  F4     P3     F1    1      1\n",
       "1  Fam  F3     P3     F1    2      1\n",
       "2  Fam  F2     P3     F1    2      1\n",
       "3  Fam  F1     P1     P2    2      2\n",
       "4  Fam  P3      0      0    1      2\n",
       "5  Fam  P1      0      0    1     -9\n",
       "6  Fam  P2      0      0    2     -9"
      ]
     },
     "execution_count": null,
     "metadata": {},
     "output_type": "execute_result"
    }
   ],
   "source": [
    "fam"
   ]
  },
  {
   "cell_type": "code",
   "execution_count": null,
   "metadata": {},
   "outputs": [
    {
     "data": {
      "image/svg+xml": [
       "<?xml version=\"1.0\" encoding=\"UTF-8\" standalone=\"no\"?>\n",
       "<!DOCTYPE svg PUBLIC \"-//W3C//DTD SVG 1.1//EN\"\n",
       " \"http://www.w3.org/Graphics/SVG/1.1/DTD/svg11.dtd\">\n",
       "<!-- Generated by graphviz version 2.38.0 (20140413.2041)\n",
       " -->\n",
       "<!-- Title: %3 Pages: 1 -->\n",
       "<svg width=\"168pt\" height=\"264pt\"\n",
       " viewBox=\"0.00 0.00 167.92 263.58\" xmlns=\"http://www.w3.org/2000/svg\" xmlns:xlink=\"http://www.w3.org/1999/xlink\">\n",
       "<g id=\"graph0\" class=\"graph\" transform=\"scale(1 1) rotate(0) translate(4 259.581)\">\n",
       "<title>%3</title>\n",
       "<polygon fill=\"white\" stroke=\"none\" points=\"-4,4 -4,-259.581 163.92,-259.581 163.92,4 -4,4\"/>\n",
       "<!-- F4 -->\n",
       "<g id=\"node1\" class=\"node\"><title>F4</title>\n",
       "<polygon fill=\"white\" stroke=\"black\" points=\"36,-27.7635 0,-27.7635 0,-4.76346 36,-4.76346 36,-27.7635\"/>\n",
       "<text text-anchor=\"middle\" x=\"18\" y=\"-12.5635\" font-family=\"Times,serif\" font-size=\"14.00\">F4</text>\n",
       "</g>\n",
       "<!-- P3xF1 -->\n",
       "<g id=\"node2\" class=\"node\"><title>P3xF1</title>\n",
       "<polygon fill=\"none\" stroke=\"black\" points=\"76,-75.5269 72.5,-72.0269 76,-68.5269 79.5,-72.0269 76,-75.5269\"/>\n",
       "</g>\n",
       "<!-- P3xF1&#45;&gt;F4 -->\n",
       "<g id=\"edge1\" class=\"edge\"><title>P3xF1&#45;&gt;F4</title>\n",
       "<path fill=\"none\" stroke=\"black\" d=\"M74.5663,-69.6979C69.4147,-64.9227 51.3875,-48.2122 37.0513,-34.9232\"/>\n",
       "<polygon fill=\"black\" stroke=\"black\" points=\"39.2849,-32.2212 29.5717,-27.9899 34.5262,-37.3549 39.2849,-32.2212\"/>\n",
       "</g>\n",
       "<!-- F3 -->\n",
       "<g id=\"node3\" class=\"node\"><title>F3</title>\n",
       "<ellipse fill=\"white\" stroke=\"black\" cx=\"76\" cy=\"-16.2635\" rx=\"21.8409\" ry=\"16.0303\"/>\n",
       "<text text-anchor=\"middle\" x=\"76\" y=\"-12.5635\" font-family=\"Times,serif\" font-size=\"14.00\">F3</text>\n",
       "</g>\n",
       "<!-- P3xF1&#45;&gt;F3 -->\n",
       "<g id=\"edge2\" class=\"edge\"><title>P3xF1&#45;&gt;F3</title>\n",
       "<path fill=\"none\" stroke=\"black\" d=\"M76,-68.4338C76,-63.6514 76,-52.9811 76,-42.6151\"/>\n",
       "<polygon fill=\"black\" stroke=\"black\" points=\"79.5001,-42.5799 76,-32.58 72.5001,-42.58 79.5001,-42.5799\"/>\n",
       "</g>\n",
       "<!-- F2 -->\n",
       "<g id=\"node4\" class=\"node\"><title>F2</title>\n",
       "<ellipse fill=\"white\" stroke=\"black\" cx=\"138\" cy=\"-16.2635\" rx=\"21.8409\" ry=\"16.0303\"/>\n",
       "<text text-anchor=\"middle\" x=\"138\" y=\"-12.5635\" font-family=\"Times,serif\" font-size=\"14.00\">F2</text>\n",
       "</g>\n",
       "<!-- P3xF1&#45;&gt;F2 -->\n",
       "<g id=\"edge3\" class=\"edge\"><title>P3xF1&#45;&gt;F2</title>\n",
       "<path fill=\"none\" stroke=\"black\" d=\"M77.5326,-69.6979C82.8821,-65.0591 101.22,-49.1573 116.312,-36.0703\"/>\n",
       "<polygon fill=\"black\" stroke=\"black\" points=\"118.997,-38.3743 124.259,-29.1786 114.411,-33.0858 118.997,-38.3743\"/>\n",
       "</g>\n",
       "<!-- F1 -->\n",
       "<g id=\"node5\" class=\"node\"><title>F1</title>\n",
       "<ellipse fill=\"dimgrey\" stroke=\"black\" cx=\"47\" cy=\"-127.79\" rx=\"21.8409\" ry=\"16.0303\"/>\n",
       "<text text-anchor=\"middle\" x=\"47\" y=\"-124.09\" font-family=\"Times,serif\" font-size=\"14.00\">F1</text>\n",
       "</g>\n",
       "<!-- F1&#45;&gt;P3xF1 -->\n",
       "<g id=\"edge5\" class=\"edge\"><title>F1&#45;&gt;P3xF1</title>\n",
       "<path fill=\"none\" stroke=\"black\" d=\"M54.7715,-112.383C59.6066,-103.419 65.7242,-92.0773 70.1488,-83.8746\"/>\n",
       "<polygon fill=\"black\" stroke=\"black\" points=\"73.2977,-85.4092 74.9647,-74.9463 67.1368,-82.086 73.2977,-85.4092\"/>\n",
       "</g>\n",
       "<!-- P1xP2 -->\n",
       "<g id=\"node6\" class=\"node\"><title>P1xP2</title>\n",
       "<polygon fill=\"none\" stroke=\"black\" points=\"47,-187.054 43.5,-183.554 47,-180.054 50.5,-183.554 47,-187.054\"/>\n",
       "</g>\n",
       "<!-- P1xP2&#45;&gt;F1 -->\n",
       "<g id=\"edge4\" class=\"edge\"><title>P1xP2&#45;&gt;F1</title>\n",
       "<path fill=\"none\" stroke=\"black\" d=\"M47,-179.961C47,-175.178 47,-164.508 47,-154.142\"/>\n",
       "<polygon fill=\"black\" stroke=\"black\" points=\"50.5001,-154.107 47,-144.107 43.5001,-154.107 50.5001,-154.107\"/>\n",
       "</g>\n",
       "<!-- P3 -->\n",
       "<g id=\"node7\" class=\"node\"><title>P3</title>\n",
       "<polygon fill=\"dimgrey\" stroke=\"black\" points=\"123,-139.29 87,-139.29 87,-116.29 123,-116.29 123,-139.29\"/>\n",
       "<text text-anchor=\"middle\" x=\"105\" y=\"-124.09\" font-family=\"Times,serif\" font-size=\"14.00\">P3</text>\n",
       "</g>\n",
       "<!-- P3&#45;&gt;P3xF1 -->\n",
       "<g id=\"edge6\" class=\"edge\"><title>P3&#45;&gt;P3xF1</title>\n",
       "<path fill=\"none\" stroke=\"black\" d=\"M99.2705,-116.168C94.2009,-106.77 86.84,-93.1234 81.7609,-83.7072\"/>\n",
       "<polygon fill=\"black\" stroke=\"black\" points=\"84.8325,-82.0289 77.0046,-74.8893 78.6716,-85.3522 84.8325,-82.0289\"/>\n",
       "</g>\n",
       "<!-- P1 -->\n",
       "<g id=\"node8\" class=\"node\"><title>P1</title>\n",
       "<polygon fill=\"#66cdaa\" stroke=\"black\" points=\"36,-250.817 0,-250.817 0,-227.817 36,-227.817 36,-250.817\"/>\n",
       "<text text-anchor=\"middle\" x=\"18\" y=\"-235.617\" font-family=\"Times,serif\" font-size=\"14.00\">P1</text>\n",
       "</g>\n",
       "<!-- P1&#45;&gt;P1xP2 -->\n",
       "<g id=\"edge7\" class=\"edge\"><title>P1&#45;&gt;P1xP2</title>\n",
       "<path fill=\"none\" stroke=\"black\" d=\"M23.7295,-227.695C28.7991,-218.297 36.16,-204.65 41.2391,-195.234\"/>\n",
       "<polygon fill=\"black\" stroke=\"black\" points=\"44.3284,-196.879 45.9954,-186.416 38.1675,-193.556 44.3284,-196.879\"/>\n",
       "</g>\n",
       "<!-- P2 -->\n",
       "<g id=\"node9\" class=\"node\"><title>P2</title>\n",
       "<ellipse fill=\"#66cdaa\" stroke=\"black\" cx=\"76\" cy=\"-239.317\" rx=\"21.8409\" ry=\"16.0303\"/>\n",
       "<text text-anchor=\"middle\" x=\"76\" y=\"-235.617\" font-family=\"Times,serif\" font-size=\"14.00\">P2</text>\n",
       "</g>\n",
       "<!-- P2&#45;&gt;P1xP2 -->\n",
       "<g id=\"edge8\" class=\"edge\"><title>P2&#45;&gt;P1xP2</title>\n",
       "<path fill=\"none\" stroke=\"black\" d=\"M68.2285,-223.91C63.3934,-214.946 57.2758,-203.604 52.8512,-195.401\"/>\n",
       "<polygon fill=\"black\" stroke=\"black\" points=\"55.8632,-193.613 48.0353,-186.473 49.7023,-196.936 55.8632,-193.613\"/>\n",
       "</g>\n",
       "</g>\n",
       "</svg>\n"
      ],
      "text/plain": [
       "<graphviz.graphs.Digraph at 0x2b9d251ff9d0>"
      ]
     },
     "execution_count": null,
     "metadata": {},
     "output_type": "execute_result"
    }
   ],
   "source": [
    "plotped(fam)"
   ]
  },
  {
   "cell_type": "code",
   "execution_count": null,
   "metadata": {},
   "outputs": [
    {
     "data": {
      "image/svg+xml": [
       "<?xml version=\"1.0\" encoding=\"UTF-8\" standalone=\"no\"?>\n",
       "<!DOCTYPE svg PUBLIC \"-//W3C//DTD SVG 1.1//EN\"\n",
       " \"http://www.w3.org/Graphics/SVG/1.1/DTD/svg11.dtd\">\n",
       "<!-- Generated by graphviz version 2.38.0 (20140413.2041)\n",
       " -->\n",
       "<!-- Title: %3 Pages: 1 -->\n",
       "<svg width=\"168pt\" height=\"264pt\"\n",
       " viewBox=\"0.00 0.00 167.92 263.58\" xmlns=\"http://www.w3.org/2000/svg\" xmlns:xlink=\"http://www.w3.org/1999/xlink\">\n",
       "<g id=\"graph0\" class=\"graph\" transform=\"scale(1 1) rotate(0) translate(4 259.581)\">\n",
       "<title>%3</title>\n",
       "<polygon fill=\"white\" stroke=\"none\" points=\"-4,4 -4,-259.581 163.92,-259.581 163.92,4 -4,4\"/>\n",
       "<!-- F4 -->\n",
       "<g id=\"node1\" class=\"node\"><title>F4</title>\n",
       "<polygon fill=\"white\" stroke=\"black\" points=\"36,-27.7635 0,-27.7635 0,-4.76346 36,-4.76346 36,-27.7635\"/>\n",
       "<text text-anchor=\"middle\" x=\"18\" y=\"-12.5635\" font-family=\"Times,serif\" font-size=\"14.00\">F4</text>\n",
       "</g>\n",
       "<!-- P3xF1 -->\n",
       "<g id=\"node2\" class=\"node\"><title>P3xF1</title>\n",
       "<polygon fill=\"none\" stroke=\"black\" points=\"76,-75.5269 72.5,-72.0269 76,-68.5269 79.5,-72.0269 76,-75.5269\"/>\n",
       "</g>\n",
       "<!-- P3xF1&#45;&gt;F4 -->\n",
       "<g id=\"edge1\" class=\"edge\"><title>P3xF1&#45;&gt;F4</title>\n",
       "<path fill=\"none\" stroke=\"black\" d=\"M74.5663,-69.6979C69.4147,-64.9227 51.3875,-48.2122 37.0513,-34.9232\"/>\n",
       "<polygon fill=\"black\" stroke=\"black\" points=\"39.2849,-32.2212 29.5717,-27.9899 34.5262,-37.3549 39.2849,-32.2212\"/>\n",
       "</g>\n",
       "<!-- F3 -->\n",
       "<g id=\"node3\" class=\"node\"><title>F3</title>\n",
       "<ellipse fill=\"white\" stroke=\"black\" cx=\"76\" cy=\"-16.2635\" rx=\"21.8409\" ry=\"16.0303\"/>\n",
       "<text text-anchor=\"middle\" x=\"76\" y=\"-12.5635\" font-family=\"Times,serif\" font-size=\"14.00\">F3</text>\n",
       "</g>\n",
       "<!-- P3xF1&#45;&gt;F3 -->\n",
       "<g id=\"edge2\" class=\"edge\"><title>P3xF1&#45;&gt;F3</title>\n",
       "<path fill=\"none\" stroke=\"black\" d=\"M76,-68.4338C76,-63.6514 76,-52.9811 76,-42.6151\"/>\n",
       "<polygon fill=\"black\" stroke=\"black\" points=\"79.5001,-42.5799 76,-32.58 72.5001,-42.58 79.5001,-42.5799\"/>\n",
       "</g>\n",
       "<!-- F2 -->\n",
       "<g id=\"node4\" class=\"node\"><title>F2</title>\n",
       "<ellipse fill=\"white\" stroke=\"black\" cx=\"138\" cy=\"-16.2635\" rx=\"21.8409\" ry=\"16.0303\"/>\n",
       "<text text-anchor=\"middle\" x=\"138\" y=\"-12.5635\" font-family=\"Times,serif\" font-size=\"14.00\">F2</text>\n",
       "</g>\n",
       "<!-- P3xF1&#45;&gt;F2 -->\n",
       "<g id=\"edge3\" class=\"edge\"><title>P3xF1&#45;&gt;F2</title>\n",
       "<path fill=\"none\" stroke=\"black\" d=\"M77.5326,-69.6979C82.8821,-65.0591 101.22,-49.1573 116.312,-36.0703\"/>\n",
       "<polygon fill=\"black\" stroke=\"black\" points=\"118.997,-38.3743 124.259,-29.1786 114.411,-33.0858 118.997,-38.3743\"/>\n",
       "</g>\n",
       "<!-- F1 -->\n",
       "<g id=\"node5\" class=\"node\"><title>F1</title>\n",
       "<ellipse fill=\"dimgrey\" stroke=\"black\" cx=\"47\" cy=\"-127.79\" rx=\"21.8409\" ry=\"16.0303\"/>\n",
       "<text text-anchor=\"middle\" x=\"47\" y=\"-124.09\" font-family=\"Times,serif\" font-size=\"14.00\">F1</text>\n",
       "</g>\n",
       "<!-- F1&#45;&gt;P3xF1 -->\n",
       "<g id=\"edge5\" class=\"edge\"><title>F1&#45;&gt;P3xF1</title>\n",
       "<path fill=\"none\" stroke=\"black\" d=\"M54.7715,-112.383C59.6066,-103.419 65.7242,-92.0773 70.1488,-83.8746\"/>\n",
       "<polygon fill=\"black\" stroke=\"black\" points=\"73.2977,-85.4092 74.9647,-74.9463 67.1368,-82.086 73.2977,-85.4092\"/>\n",
       "</g>\n",
       "<!-- P1xP2 -->\n",
       "<g id=\"node6\" class=\"node\"><title>P1xP2</title>\n",
       "<polygon fill=\"none\" stroke=\"black\" points=\"47,-187.054 43.5,-183.554 47,-180.054 50.5,-183.554 47,-187.054\"/>\n",
       "</g>\n",
       "<!-- P1xP2&#45;&gt;F1 -->\n",
       "<g id=\"edge4\" class=\"edge\"><title>P1xP2&#45;&gt;F1</title>\n",
       "<path fill=\"none\" stroke=\"black\" d=\"M47,-179.961C47,-175.178 47,-164.508 47,-154.142\"/>\n",
       "<polygon fill=\"black\" stroke=\"black\" points=\"50.5001,-154.107 47,-144.107 43.5001,-154.107 50.5001,-154.107\"/>\n",
       "</g>\n",
       "<!-- P3 -->\n",
       "<g id=\"node7\" class=\"node\"><title>P3</title>\n",
       "<polygon fill=\"dimgrey\" stroke=\"black\" points=\"123,-139.29 87,-139.29 87,-116.29 123,-116.29 123,-139.29\"/>\n",
       "<text text-anchor=\"middle\" x=\"105\" y=\"-124.09\" font-family=\"Times,serif\" font-size=\"14.00\">P3</text>\n",
       "</g>\n",
       "<!-- P3&#45;&gt;P3xF1 -->\n",
       "<g id=\"edge6\" class=\"edge\"><title>P3&#45;&gt;P3xF1</title>\n",
       "<path fill=\"none\" stroke=\"black\" d=\"M99.2705,-116.168C94.2009,-106.77 86.84,-93.1234 81.7609,-83.7072\"/>\n",
       "<polygon fill=\"black\" stroke=\"black\" points=\"84.8325,-82.0289 77.0046,-74.8893 78.6716,-85.3522 84.8325,-82.0289\"/>\n",
       "</g>\n",
       "<!-- P1 -->\n",
       "<g id=\"node8\" class=\"node\"><title>P1</title>\n",
       "<polygon fill=\"#66cdaa\" stroke=\"black\" points=\"36,-250.817 0,-250.817 0,-227.817 36,-227.817 36,-250.817\"/>\n",
       "<text text-anchor=\"middle\" x=\"18\" y=\"-235.617\" font-family=\"Times,serif\" font-size=\"14.00\">P1</text>\n",
       "</g>\n",
       "<!-- P1&#45;&gt;P1xP2 -->\n",
       "<g id=\"edge7\" class=\"edge\"><title>P1&#45;&gt;P1xP2</title>\n",
       "<path fill=\"none\" stroke=\"black\" d=\"M23.7295,-227.695C28.7991,-218.297 36.16,-204.65 41.2391,-195.234\"/>\n",
       "<polygon fill=\"black\" stroke=\"black\" points=\"44.3284,-196.879 45.9954,-186.416 38.1675,-193.556 44.3284,-196.879\"/>\n",
       "</g>\n",
       "<!-- P2 -->\n",
       "<g id=\"node9\" class=\"node\"><title>P2</title>\n",
       "<ellipse fill=\"#66cdaa\" stroke=\"black\" cx=\"76\" cy=\"-239.317\" rx=\"21.8409\" ry=\"16.0303\"/>\n",
       "<text text-anchor=\"middle\" x=\"76\" y=\"-235.617\" font-family=\"Times,serif\" font-size=\"14.00\">P2</text>\n",
       "</g>\n",
       "<!-- P2&#45;&gt;P1xP2 -->\n",
       "<g id=\"edge8\" class=\"edge\"><title>P2&#45;&gt;P1xP2</title>\n",
       "<path fill=\"none\" stroke=\"black\" d=\"M68.2285,-223.91C63.3934,-214.946 57.2758,-203.604 52.8512,-195.401\"/>\n",
       "<polygon fill=\"black\" stroke=\"black\" points=\"55.8632,-193.613 48.0353,-186.473 49.7023,-196.936 55.8632,-193.613\"/>\n",
       "</g>\n",
       "</g>\n",
       "</svg>\n"
      ],
      "text/plain": [
       "<graphviz.graphs.Digraph at 0x2b9d251ff9d0>"
      ]
     },
     "execution_count": null,
     "metadata": {},
     "output_type": "execute_result"
    }
   ],
   "source": [
    "plotped(fam)"
   ]
  },
  {
   "cell_type": "markdown",
   "metadata": {},
   "source": [
    "#### Extended ped file"
   ]
  },
  {
   "cell_type": "code",
   "execution_count": null,
   "metadata": {},
   "outputs": [
    {
     "name": "stdout",
     "output_type": "stream",
     "text": [
      "Overwriting data/example_fam_ext.ped\n"
     ]
    }
   ],
   "source": [
    "%%writefile data/example_fam_ext.ped\n",
    "Fam1\tF4\tP3\tF1\t1\t1\tTrue\tFalse\n",
    "Fam1\tF3\tP3\tF1\t2\t1\tTrue\tTrue\n",
    "Fam1\tF2\tP3\tF1\t2\t1\tTrue\tFalse\n",
    "Fam1\tF1\tP1\tP2\t2\t2\tTrue\tFalse\n",
    "Fam1\tP3\t0\t0\t1\t2\tTrue\tFalse\n",
    "Fam1\tP1\t0\t0\t1\t-9\tFalse\tTrue\n",
    "Fam1\tP2\t0\t0\t2\t-9\tFalse\tTrue"
   ]
  },
  {
   "cell_type": "code",
   "execution_count": null,
   "metadata": {},
   "outputs": [],
   "source": [
    "famext=readped('data/example_fam_ext.ped',attrs)"
   ]
  },
  {
   "cell_type": "code",
   "execution_count": null,
   "metadata": {},
   "outputs": [
    {
     "data": {
      "text/html": [
       "<div>\n",
       "<style scoped>\n",
       "    .dataframe tbody tr th:only-of-type {\n",
       "        vertical-align: middle;\n",
       "    }\n",
       "\n",
       "    .dataframe tbody tr th {\n",
       "        vertical-align: top;\n",
       "    }\n",
       "\n",
       "    .dataframe thead th {\n",
       "        text-align: right;\n",
       "    }\n",
       "</style>\n",
       "<table border=\"1\" class=\"dataframe\">\n",
       "  <thead>\n",
       "    <tr style=\"text-align: right;\">\n",
       "      <th></th>\n",
       "      <th>fid</th>\n",
       "      <th>iid</th>\n",
       "      <th>fathid</th>\n",
       "      <th>mothid</th>\n",
       "      <th>sex</th>\n",
       "      <th>trait1</th>\n",
       "      <th>trait2</th>\n",
       "      <th>trait3</th>\n",
       "    </tr>\n",
       "  </thead>\n",
       "  <tbody>\n",
       "    <tr>\n",
       "      <th>0</th>\n",
       "      <td>Fam1</td>\n",
       "      <td>F4</td>\n",
       "      <td>P3</td>\n",
       "      <td>F1</td>\n",
       "      <td>1</td>\n",
       "      <td>1</td>\n",
       "      <td>True</td>\n",
       "      <td>False</td>\n",
       "    </tr>\n",
       "    <tr>\n",
       "      <th>1</th>\n",
       "      <td>Fam1</td>\n",
       "      <td>F3</td>\n",
       "      <td>P3</td>\n",
       "      <td>F1</td>\n",
       "      <td>2</td>\n",
       "      <td>1</td>\n",
       "      <td>True</td>\n",
       "      <td>True</td>\n",
       "    </tr>\n",
       "    <tr>\n",
       "      <th>2</th>\n",
       "      <td>Fam1</td>\n",
       "      <td>F2</td>\n",
       "      <td>P3</td>\n",
       "      <td>F1</td>\n",
       "      <td>2</td>\n",
       "      <td>1</td>\n",
       "      <td>True</td>\n",
       "      <td>False</td>\n",
       "    </tr>\n",
       "    <tr>\n",
       "      <th>3</th>\n",
       "      <td>Fam1</td>\n",
       "      <td>F1</td>\n",
       "      <td>P1</td>\n",
       "      <td>P2</td>\n",
       "      <td>2</td>\n",
       "      <td>2</td>\n",
       "      <td>True</td>\n",
       "      <td>False</td>\n",
       "    </tr>\n",
       "    <tr>\n",
       "      <th>4</th>\n",
       "      <td>Fam1</td>\n",
       "      <td>P3</td>\n",
       "      <td>0</td>\n",
       "      <td>0</td>\n",
       "      <td>1</td>\n",
       "      <td>2</td>\n",
       "      <td>True</td>\n",
       "      <td>False</td>\n",
       "    </tr>\n",
       "    <tr>\n",
       "      <th>5</th>\n",
       "      <td>Fam1</td>\n",
       "      <td>P1</td>\n",
       "      <td>0</td>\n",
       "      <td>0</td>\n",
       "      <td>1</td>\n",
       "      <td>-9</td>\n",
       "      <td>False</td>\n",
       "      <td>True</td>\n",
       "    </tr>\n",
       "    <tr>\n",
       "      <th>6</th>\n",
       "      <td>Fam1</td>\n",
       "      <td>P2</td>\n",
       "      <td>0</td>\n",
       "      <td>0</td>\n",
       "      <td>2</td>\n",
       "      <td>-9</td>\n",
       "      <td>False</td>\n",
       "      <td>True</td>\n",
       "    </tr>\n",
       "  </tbody>\n",
       "</table>\n",
       "</div>"
      ],
      "text/plain": [
       "    fid iid fathid mothid  sex  trait1  trait2  trait3\n",
       "0  Fam1  F4     P3     F1    1       1    True   False\n",
       "1  Fam1  F3     P3     F1    2       1    True    True\n",
       "2  Fam1  F2     P3     F1    2       1    True   False\n",
       "3  Fam1  F1     P1     P2    2       2    True   False\n",
       "4  Fam1  P3      0      0    1       2    True   False\n",
       "5  Fam1  P1      0      0    1      -9   False    True\n",
       "6  Fam1  P2      0      0    2      -9   False    True"
      ]
     },
     "execution_count": null,
     "metadata": {},
     "output_type": "execute_result"
    }
   ],
   "source": [
    "famext"
   ]
  },
  {
   "cell_type": "code",
   "execution_count": null,
   "metadata": {},
   "outputs": [
    {
     "data": {
      "image/svg+xml": [
       "<?xml version=\"1.0\" encoding=\"UTF-8\" standalone=\"no\"?>\n",
       "<!DOCTYPE svg PUBLIC \"-//W3C//DTD SVG 1.1//EN\"\n",
       " \"http://www.w3.org/Graphics/SVG/1.1/DTD/svg11.dtd\">\n",
       "<!-- Generated by graphviz version 2.38.0 (20140413.2041)\n",
       " -->\n",
       "<!-- Title: %3 Pages: 1 -->\n",
       "<svg width=\"168pt\" height=\"264pt\"\n",
       " viewBox=\"0.00 0.00 167.92 263.58\" xmlns=\"http://www.w3.org/2000/svg\" xmlns:xlink=\"http://www.w3.org/1999/xlink\">\n",
       "<g id=\"graph0\" class=\"graph\" transform=\"scale(1 1) rotate(0) translate(4 259.581)\">\n",
       "<title>%3</title>\n",
       "<polygon fill=\"white\" stroke=\"none\" points=\"-4,4 -4,-259.581 163.92,-259.581 163.92,4 -4,4\"/>\n",
       "<!-- F4 -->\n",
       "<g id=\"node1\" class=\"node\"><title>F4</title>\n",
       "<polygon fill=\"white\" stroke=\"black\" stroke-width=\"4\" points=\"36,-27.7635 0,-27.7635 0,-4.76346 36,-4.76346 36,-27.7635\"/>\n",
       "<text text-anchor=\"middle\" x=\"18\" y=\"-12.5635\" font-family=\"Times,serif\" font-size=\"14.00\">F4</text>\n",
       "</g>\n",
       "<!-- P3xF1 -->\n",
       "<g id=\"node2\" class=\"node\"><title>P3xF1</title>\n",
       "<polygon fill=\"none\" stroke=\"black\" points=\"76,-75.5269 72.5,-72.0269 76,-68.5269 79.5,-72.0269 76,-75.5269\"/>\n",
       "</g>\n",
       "<!-- P3xF1&#45;&gt;F4 -->\n",
       "<g id=\"edge1\" class=\"edge\"><title>P3xF1&#45;&gt;F4</title>\n",
       "<path fill=\"none\" stroke=\"black\" d=\"M74.5663,-69.6979C69.4147,-64.9227 51.3875,-48.2122 37.0513,-34.9232\"/>\n",
       "<polygon fill=\"black\" stroke=\"black\" points=\"39.2849,-32.2212 29.5717,-27.9899 34.5262,-37.3549 39.2849,-32.2212\"/>\n",
       "</g>\n",
       "<!-- F3 -->\n",
       "<g id=\"node3\" class=\"node\"><title>F3</title>\n",
       "<ellipse fill=\"white\" stroke=\"black\" stroke-width=\"4\" cx=\"76\" cy=\"-16.2635\" rx=\"21.8409\" ry=\"16.0303\"/>\n",
       "<text text-anchor=\"middle\" x=\"76\" y=\"-12.5635\" font-family=\"Times,serif\" font-size=\"14.00\" fill=\"darkorange\">F3</text>\n",
       "</g>\n",
       "<!-- P3xF1&#45;&gt;F3 -->\n",
       "<g id=\"edge2\" class=\"edge\"><title>P3xF1&#45;&gt;F3</title>\n",
       "<path fill=\"none\" stroke=\"black\" d=\"M76,-68.4338C76,-63.6514 76,-52.9811 76,-42.6151\"/>\n",
       "<polygon fill=\"black\" stroke=\"black\" points=\"79.5001,-42.5799 76,-32.58 72.5001,-42.58 79.5001,-42.5799\"/>\n",
       "</g>\n",
       "<!-- F2 -->\n",
       "<g id=\"node4\" class=\"node\"><title>F2</title>\n",
       "<ellipse fill=\"white\" stroke=\"black\" stroke-width=\"4\" cx=\"138\" cy=\"-16.2635\" rx=\"21.8409\" ry=\"16.0303\"/>\n",
       "<text text-anchor=\"middle\" x=\"138\" y=\"-12.5635\" font-family=\"Times,serif\" font-size=\"14.00\">F2</text>\n",
       "</g>\n",
       "<!-- P3xF1&#45;&gt;F2 -->\n",
       "<g id=\"edge3\" class=\"edge\"><title>P3xF1&#45;&gt;F2</title>\n",
       "<path fill=\"none\" stroke=\"black\" d=\"M77.5326,-69.6979C82.8821,-65.0591 101.22,-49.1573 116.312,-36.0703\"/>\n",
       "<polygon fill=\"black\" stroke=\"black\" points=\"118.997,-38.3743 124.259,-29.1786 114.411,-33.0858 118.997,-38.3743\"/>\n",
       "</g>\n",
       "<!-- F1 -->\n",
       "<g id=\"node5\" class=\"node\"><title>F1</title>\n",
       "<ellipse fill=\"dimgrey\" stroke=\"black\" stroke-width=\"4\" cx=\"47\" cy=\"-127.79\" rx=\"21.8409\" ry=\"16.0303\"/>\n",
       "<text text-anchor=\"middle\" x=\"47\" y=\"-124.09\" font-family=\"Times,serif\" font-size=\"14.00\">F1</text>\n",
       "</g>\n",
       "<!-- F1&#45;&gt;P3xF1 -->\n",
       "<g id=\"edge5\" class=\"edge\"><title>F1&#45;&gt;P3xF1</title>\n",
       "<path fill=\"none\" stroke=\"black\" d=\"M54.7715,-112.383C59.6066,-103.419 65.7242,-92.0773 70.1488,-83.8746\"/>\n",
       "<polygon fill=\"black\" stroke=\"black\" points=\"73.2977,-85.4092 74.9647,-74.9463 67.1368,-82.086 73.2977,-85.4092\"/>\n",
       "</g>\n",
       "<!-- P1xP2 -->\n",
       "<g id=\"node6\" class=\"node\"><title>P1xP2</title>\n",
       "<polygon fill=\"none\" stroke=\"black\" points=\"47,-187.054 43.5,-183.554 47,-180.054 50.5,-183.554 47,-187.054\"/>\n",
       "</g>\n",
       "<!-- P1xP2&#45;&gt;F1 -->\n",
       "<g id=\"edge4\" class=\"edge\"><title>P1xP2&#45;&gt;F1</title>\n",
       "<path fill=\"none\" stroke=\"black\" d=\"M47,-179.961C47,-175.178 47,-164.508 47,-154.142\"/>\n",
       "<polygon fill=\"black\" stroke=\"black\" points=\"50.5001,-154.107 47,-144.107 43.5001,-154.107 50.5001,-154.107\"/>\n",
       "</g>\n",
       "<!-- P3 -->\n",
       "<g id=\"node7\" class=\"node\"><title>P3</title>\n",
       "<polygon fill=\"dimgrey\" stroke=\"black\" stroke-width=\"4\" points=\"123,-139.29 87,-139.29 87,-116.29 123,-116.29 123,-139.29\"/>\n",
       "<text text-anchor=\"middle\" x=\"105\" y=\"-124.09\" font-family=\"Times,serif\" font-size=\"14.00\">P3</text>\n",
       "</g>\n",
       "<!-- P3&#45;&gt;P3xF1 -->\n",
       "<g id=\"edge6\" class=\"edge\"><title>P3&#45;&gt;P3xF1</title>\n",
       "<path fill=\"none\" stroke=\"black\" d=\"M99.2705,-116.168C94.2009,-106.77 86.84,-93.1234 81.7609,-83.7072\"/>\n",
       "<polygon fill=\"black\" stroke=\"black\" points=\"84.8325,-82.0289 77.0046,-74.8893 78.6716,-85.3522 84.8325,-82.0289\"/>\n",
       "</g>\n",
       "<!-- P1 -->\n",
       "<g id=\"node8\" class=\"node\"><title>P1</title>\n",
       "<polygon fill=\"#66cdaa\" stroke=\"black\" points=\"36,-250.817 0,-250.817 0,-227.817 36,-227.817 36,-250.817\"/>\n",
       "<text text-anchor=\"middle\" x=\"18\" y=\"-235.617\" font-family=\"Times,serif\" font-size=\"14.00\" fill=\"darkorange\">P1</text>\n",
       "</g>\n",
       "<!-- P1&#45;&gt;P1xP2 -->\n",
       "<g id=\"edge7\" class=\"edge\"><title>P1&#45;&gt;P1xP2</title>\n",
       "<path fill=\"none\" stroke=\"black\" d=\"M23.7295,-227.695C28.7991,-218.297 36.16,-204.65 41.2391,-195.234\"/>\n",
       "<polygon fill=\"black\" stroke=\"black\" points=\"44.3284,-196.879 45.9954,-186.416 38.1675,-193.556 44.3284,-196.879\"/>\n",
       "</g>\n",
       "<!-- P2 -->\n",
       "<g id=\"node9\" class=\"node\"><title>P2</title>\n",
       "<ellipse fill=\"#66cdaa\" stroke=\"black\" cx=\"76\" cy=\"-239.317\" rx=\"21.8409\" ry=\"16.0303\"/>\n",
       "<text text-anchor=\"middle\" x=\"76\" y=\"-235.617\" font-family=\"Times,serif\" font-size=\"14.00\" fill=\"darkorange\">P2</text>\n",
       "</g>\n",
       "<!-- P2&#45;&gt;P1xP2 -->\n",
       "<g id=\"edge8\" class=\"edge\"><title>P2&#45;&gt;P1xP2</title>\n",
       "<path fill=\"none\" stroke=\"black\" d=\"M68.2285,-223.91C63.3934,-214.946 57.2758,-203.604 52.8512,-195.401\"/>\n",
       "<polygon fill=\"black\" stroke=\"black\" points=\"55.8632,-193.613 48.0353,-186.473 49.7023,-196.936 55.8632,-193.613\"/>\n",
       "</g>\n",
       "</g>\n",
       "</svg>\n"
      ],
      "text/plain": [
       "<graphviz.graphs.Digraph at 0x2b9d2653d900>"
      ]
     },
     "execution_count": null,
     "metadata": {},
     "output_type": "execute_result"
    }
   ],
   "source": [
    "plotped(famext,attrs)"
   ]
  },
  {
   "cell_type": "code",
   "execution_count": null,
   "metadata": {},
   "outputs": [],
   "source": []
  },
  {
   "cell_type": "code",
   "execution_count": null,
   "metadata": {},
   "outputs": [],
   "source": [
    "dots=GraphPed(fam)"
   ]
  },
  {
   "cell_type": "code",
   "execution_count": null,
   "metadata": {},
   "outputs": [
    {
     "data": {
      "image/svg+xml": [
       "<?xml version=\"1.0\" encoding=\"UTF-8\" standalone=\"no\"?>\n",
       "<!DOCTYPE svg PUBLIC \"-//W3C//DTD SVG 1.1//EN\"\n",
       " \"http://www.w3.org/Graphics/SVG/1.1/DTD/svg11.dtd\">\n",
       "<!-- Generated by graphviz version 2.38.0 (20140413.2041)\n",
       " -->\n",
       "<!-- Title: %3 Pages: 1 -->\n",
       "<svg width=\"168pt\" height=\"264pt\"\n",
       " viewBox=\"0.00 0.00 167.92 263.58\" xmlns=\"http://www.w3.org/2000/svg\" xmlns:xlink=\"http://www.w3.org/1999/xlink\">\n",
       "<g id=\"graph0\" class=\"graph\" transform=\"scale(1 1) rotate(0) translate(4 259.581)\">\n",
       "<title>%3</title>\n",
       "<polygon fill=\"white\" stroke=\"none\" points=\"-4,4 -4,-259.581 163.92,-259.581 163.92,4 -4,4\"/>\n",
       "<!-- F4 -->\n",
       "<g id=\"node1\" class=\"node\"><title>F4</title>\n",
       "<polygon fill=\"white\" stroke=\"black\" points=\"36,-27.7635 0,-27.7635 0,-4.76346 36,-4.76346 36,-27.7635\"/>\n",
       "<text text-anchor=\"middle\" x=\"18\" y=\"-12.5635\" font-family=\"Times,serif\" font-size=\"14.00\">F4</text>\n",
       "</g>\n",
       "<!-- P3xF1 -->\n",
       "<g id=\"node2\" class=\"node\"><title>P3xF1</title>\n",
       "<polygon fill=\"none\" stroke=\"black\" points=\"76,-75.5269 72.5,-72.0269 76,-68.5269 79.5,-72.0269 76,-75.5269\"/>\n",
       "</g>\n",
       "<!-- P3xF1&#45;&gt;F4 -->\n",
       "<g id=\"edge1\" class=\"edge\"><title>P3xF1&#45;&gt;F4</title>\n",
       "<path fill=\"none\" stroke=\"black\" d=\"M74.5663,-69.6979C69.4147,-64.9227 51.3875,-48.2122 37.0513,-34.9232\"/>\n",
       "<polygon fill=\"black\" stroke=\"black\" points=\"39.2849,-32.2212 29.5717,-27.9899 34.5262,-37.3549 39.2849,-32.2212\"/>\n",
       "</g>\n",
       "<!-- F3 -->\n",
       "<g id=\"node3\" class=\"node\"><title>F3</title>\n",
       "<ellipse fill=\"white\" stroke=\"black\" cx=\"76\" cy=\"-16.2635\" rx=\"21.8409\" ry=\"16.0303\"/>\n",
       "<text text-anchor=\"middle\" x=\"76\" y=\"-12.5635\" font-family=\"Times,serif\" font-size=\"14.00\">F3</text>\n",
       "</g>\n",
       "<!-- P3xF1&#45;&gt;F3 -->\n",
       "<g id=\"edge2\" class=\"edge\"><title>P3xF1&#45;&gt;F3</title>\n",
       "<path fill=\"none\" stroke=\"black\" d=\"M76,-68.4338C76,-63.6514 76,-52.9811 76,-42.6151\"/>\n",
       "<polygon fill=\"black\" stroke=\"black\" points=\"79.5001,-42.5799 76,-32.58 72.5001,-42.58 79.5001,-42.5799\"/>\n",
       "</g>\n",
       "<!-- F2 -->\n",
       "<g id=\"node4\" class=\"node\"><title>F2</title>\n",
       "<ellipse fill=\"white\" stroke=\"black\" cx=\"138\" cy=\"-16.2635\" rx=\"21.8409\" ry=\"16.0303\"/>\n",
       "<text text-anchor=\"middle\" x=\"138\" y=\"-12.5635\" font-family=\"Times,serif\" font-size=\"14.00\">F2</text>\n",
       "</g>\n",
       "<!-- P3xF1&#45;&gt;F2 -->\n",
       "<g id=\"edge3\" class=\"edge\"><title>P3xF1&#45;&gt;F2</title>\n",
       "<path fill=\"none\" stroke=\"black\" d=\"M77.5326,-69.6979C82.8821,-65.0591 101.22,-49.1573 116.312,-36.0703\"/>\n",
       "<polygon fill=\"black\" stroke=\"black\" points=\"118.997,-38.3743 124.259,-29.1786 114.411,-33.0858 118.997,-38.3743\"/>\n",
       "</g>\n",
       "<!-- F1 -->\n",
       "<g id=\"node5\" class=\"node\"><title>F1</title>\n",
       "<ellipse fill=\"dimgrey\" stroke=\"black\" cx=\"47\" cy=\"-127.79\" rx=\"21.8409\" ry=\"16.0303\"/>\n",
       "<text text-anchor=\"middle\" x=\"47\" y=\"-124.09\" font-family=\"Times,serif\" font-size=\"14.00\">F1</text>\n",
       "</g>\n",
       "<!-- F1&#45;&gt;P3xF1 -->\n",
       "<g id=\"edge5\" class=\"edge\"><title>F1&#45;&gt;P3xF1</title>\n",
       "<path fill=\"none\" stroke=\"black\" d=\"M54.7715,-112.383C59.6066,-103.419 65.7242,-92.0773 70.1488,-83.8746\"/>\n",
       "<polygon fill=\"black\" stroke=\"black\" points=\"73.2977,-85.4092 74.9647,-74.9463 67.1368,-82.086 73.2977,-85.4092\"/>\n",
       "</g>\n",
       "<!-- P1xP2 -->\n",
       "<g id=\"node6\" class=\"node\"><title>P1xP2</title>\n",
       "<polygon fill=\"none\" stroke=\"black\" points=\"47,-187.054 43.5,-183.554 47,-180.054 50.5,-183.554 47,-187.054\"/>\n",
       "</g>\n",
       "<!-- P1xP2&#45;&gt;F1 -->\n",
       "<g id=\"edge4\" class=\"edge\"><title>P1xP2&#45;&gt;F1</title>\n",
       "<path fill=\"none\" stroke=\"black\" d=\"M47,-179.961C47,-175.178 47,-164.508 47,-154.142\"/>\n",
       "<polygon fill=\"black\" stroke=\"black\" points=\"50.5001,-154.107 47,-144.107 43.5001,-154.107 50.5001,-154.107\"/>\n",
       "</g>\n",
       "<!-- P3 -->\n",
       "<g id=\"node7\" class=\"node\"><title>P3</title>\n",
       "<polygon fill=\"dimgrey\" stroke=\"black\" points=\"123,-139.29 87,-139.29 87,-116.29 123,-116.29 123,-139.29\"/>\n",
       "<text text-anchor=\"middle\" x=\"105\" y=\"-124.09\" font-family=\"Times,serif\" font-size=\"14.00\">P3</text>\n",
       "</g>\n",
       "<!-- P3&#45;&gt;P3xF1 -->\n",
       "<g id=\"edge6\" class=\"edge\"><title>P3&#45;&gt;P3xF1</title>\n",
       "<path fill=\"none\" stroke=\"black\" d=\"M99.2705,-116.168C94.2009,-106.77 86.84,-93.1234 81.7609,-83.7072\"/>\n",
       "<polygon fill=\"black\" stroke=\"black\" points=\"84.8325,-82.0289 77.0046,-74.8893 78.6716,-85.3522 84.8325,-82.0289\"/>\n",
       "</g>\n",
       "<!-- P1 -->\n",
       "<g id=\"node8\" class=\"node\"><title>P1</title>\n",
       "<polygon fill=\"#66cdaa\" stroke=\"black\" points=\"36,-250.817 0,-250.817 0,-227.817 36,-227.817 36,-250.817\"/>\n",
       "<text text-anchor=\"middle\" x=\"18\" y=\"-235.617\" font-family=\"Times,serif\" font-size=\"14.00\">P1</text>\n",
       "</g>\n",
       "<!-- P1&#45;&gt;P1xP2 -->\n",
       "<g id=\"edge7\" class=\"edge\"><title>P1&#45;&gt;P1xP2</title>\n",
       "<path fill=\"none\" stroke=\"black\" d=\"M23.7295,-227.695C28.7991,-218.297 36.16,-204.65 41.2391,-195.234\"/>\n",
       "<polygon fill=\"black\" stroke=\"black\" points=\"44.3284,-196.879 45.9954,-186.416 38.1675,-193.556 44.3284,-196.879\"/>\n",
       "</g>\n",
       "<!-- P2 -->\n",
       "<g id=\"node9\" class=\"node\"><title>P2</title>\n",
       "<ellipse fill=\"#66cdaa\" stroke=\"black\" cx=\"76\" cy=\"-239.317\" rx=\"21.8409\" ry=\"16.0303\"/>\n",
       "<text text-anchor=\"middle\" x=\"76\" y=\"-235.617\" font-family=\"Times,serif\" font-size=\"14.00\">P2</text>\n",
       "</g>\n",
       "<!-- P2&#45;&gt;P1xP2 -->\n",
       "<g id=\"edge8\" class=\"edge\"><title>P2&#45;&gt;P1xP2</title>\n",
       "<path fill=\"none\" stroke=\"black\" d=\"M68.2285,-223.91C63.3934,-214.946 57.2758,-203.604 52.8512,-195.401\"/>\n",
       "<polygon fill=\"black\" stroke=\"black\" points=\"55.8632,-193.613 48.0353,-186.473 49.7023,-196.936 55.8632,-193.613\"/>\n",
       "</g>\n",
       "</g>\n",
       "</svg>\n"
      ],
      "text/plain": [
       "<graphviz.graphs.Digraph at 0x2b9d278ac1f0>"
      ]
     },
     "metadata": {},
     "output_type": "display_data"
    }
   ],
   "source": [
    "show(dots)"
   ]
  },
  {
   "cell_type": "code",
   "execution_count": null,
   "metadata": {},
   "outputs": [],
   "source": [
    "1+1"
   ]
  },
  {
   "cell_type": "markdown",
   "metadata": {},
   "source": [
    "### Write out plots"
   ]
  },
  {
   "cell_type": "code",
   "execution_count": null,
   "metadata": {},
   "outputs": [],
   "source": [
    "plotped(fam,output='data/exampleplots',format='png')"
   ]
  },
  {
   "cell_type": "markdown",
   "metadata": {},
   "source": [
    "Show the plot from `data/exampleplots/Fam.png`\n",
    "\n",
    "![data/exampleplots/Fam.png](data/exampleplots/Fam.png \"Fam.png\")"
   ]
  },
  {
   "cell_type": "markdown",
   "metadata": {},
   "source": [
    "## Real data examples"
   ]
  },
  {
   "cell_type": "code",
   "execution_count": null,
   "metadata": {},
   "outputs": [],
   "source": []
  },
  {
   "cell_type": "code",
   "execution_count": null,
   "metadata": {},
   "outputs": [
    {
     "name": "stdout",
     "output_type": "stream",
     "text": [
      "Writing data/self_define_attrs.yaml\n"
     ]
    }
   ],
   "source": [
    "%%writefile data/self_define_attrs.yaml\n",
    "\n",
    "ad:\n",
    "    fillcolor:\n",
    "        1: 'white'\n",
    "        2: 'dimgrey'\n",
    "        -9: 'aquamarine3'\n",
    "\n",
    "vcf:\n",
    "    style:\n",
    "        True: filled,setlinewidth(4)\n",
    "        False: filled\n",
    "    \n",
    "\n",
    "trim:\n",
    "    fontcolor:\n",
    "        True: darkorange\n",
    "        False: black\n",
    "    "
   ]
  },
  {
   "cell_type": "code",
   "execution_count": null,
   "metadata": {},
   "outputs": [],
   "source": []
  }
 ],
 "metadata": {
  "kernelspec": {
   "display_name": "Python 3 (ipykernel)",
   "language": "python",
   "name": "python3"
  }
 },
 "nbformat": 4,
 "nbformat_minor": 4
}
