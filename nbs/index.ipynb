{
 "cells": [
  {
   "cell_type": "markdown",
   "metadata": {},
   "source": [
    "# GraphPed: a novel graph-based visualization method for large and complex pedigrees\n",
    "\n",
    "> It can deal with complex families, wrong pedigrees, and multiple groups in a family.\n",
    "\n",
    "> It can help to check pedigrees. \n",
    "\n",
    "> It can show multiple traits or status in one pedigree.\n",
    "\n",
    "> It can show pedigrees in jupyter notebook and output as common image format (pdf, svg, png)."
   ]
  },
  {
   "cell_type": "markdown",
   "metadata": {},
   "source": [
    "#### author: Yin Huang\n",
    "#### citation:"
   ]
  },
  {
   "cell_type": "markdown",
   "metadata": {},
   "source": [
    "## Install"
   ]
  },
  {
   "cell_type": "markdown",
   "metadata": {},
   "source": [
    "`pip install graphped`"
   ]
  },
  {
   "cell_type": "markdown",
   "metadata": {},
   "source": [
    "## How to use"
   ]
  },
  {
   "cell_type": "markdown",
   "metadata": {},
   "source": [
    "#### 1. In command line"
   ]
  },
  {
   "cell_type": "code",
   "execution_count": null,
   "metadata": {},
   "outputs": [],
   "source": [
    "!GraphPed -h"
   ]
  },
  {
   "cell_type": "markdown",
   "metadata": {},
   "source": [
    "- 1. standard pedigrees in the ped file\n",
    "\n",
    "```\n",
    "GraphPed -p data/example_fam.ped -o data/cli/ -f pdf\n",
    "```\n",
    "\n",
    "\n",
    "- 2. extended pedigrees in the ped file\n",
    "\n",
    "```\n",
    "GraphPed -p data/example_fam_ext.ped -o data/cli/ -f svg -a data/default.yaml \n",
    "```"
   ]
  },
  {
   "cell_type": "markdown",
   "metadata": {},
   "source": [
    "#### 2.In jupyter notebook"
   ]
  },
  {
   "cell_type": "code",
   "execution_count": null,
   "metadata": {},
   "outputs": [],
   "source": [
    "from graphped.plot import *"
   ]
  },
  {
   "cell_type": "code",
   "execution_count": null,
   "metadata": {},
   "outputs": [],
   "source": [
    "fam=readped('data/example_fam.ped')\n",
    "plotped(fam)"
   ]
  },
  {
   "cell_type": "markdown",
   "metadata": {},
   "source": [
    "Or"
   ]
  },
  {
   "cell_type": "code",
   "execution_count": null,
   "metadata": {},
   "outputs": [],
   "source": [
    "show(GraphPed(fam))"
   ]
  },
  {
   "cell_type": "markdown",
   "metadata": {},
   "source": [
    "`GraphPed` function can plot all the pedigrees in the fam dataframe.\n",
    "\n",
    "Adding self-defined attributes. the number of traits in the input file should match with the number of traits in the attribute yaml file."
   ]
  },
  {
   "cell_type": "code",
   "execution_count": null,
   "metadata": {},
   "outputs": [],
   "source": [
    "attrs=load_attributes('data/default.yaml')\n",
    "famext=readped('data/example_fam_ext.ped',attrs)\n",
    "plotped(famext,attrs)"
   ]
  },
  {
   "cell_type": "markdown",
   "metadata": {},
   "source": [
    "Write to output folder with pdf format"
   ]
  },
  {
   "cell_type": "code",
   "execution_count": null,
   "metadata": {},
   "outputs": [],
   "source": [
    "plotped(famext,attrs,output='data/jpn',format='pdf')"
   ]
  },
  {
   "cell_type": "markdown",
   "metadata": {},
   "source": [
    "Or output multiple pedigrees."
   ]
  },
  {
   "cell_type": "code",
   "execution_count": null,
   "metadata": {},
   "outputs": [],
   "source": [
    "GraphPed(famext,attrs,output='data/jpn',format='pdf')"
   ]
  },
  {
   "cell_type": "markdown",
   "metadata": {
    "tags": []
   },
   "source": [
    "## Tutorial"
   ]
  },
  {
   "cell_type": "markdown",
   "metadata": {
    "tags": []
   },
   "source": [
    "### Setting the attribute yaml file"
   ]
  },
  {
   "cell_type": "markdown",
   "metadata": {},
   "source": [
    "- reference: \n",
    "    - fillcolor https://graphviz.org/docs/attrs/fillcolor/\n",
    "    - style https://graphviz.org/docs/attrs/style/\n",
    "    - fontcolor https://graphviz.org/docs/attrs/fontcolor/\n",
    "    - ... https://graphviz.org/doc/info/attrs.html\n",
    "\n",
    "For one trait ped file, if the trait values are affected status, which should be coded as follows: -9 or 0 is missing,1 is unaffected, and 2 is affected. you don't need to set the attribute file. Otherwise, you need to set your attribute file by following:\n",
    "\n",
    "The format of the attribute of yaml file\n",
    "```\n",
    "trait name:\n",
    "    attribute name:\n",
    "        (the pairs of tait value and attribute value)\n",
    "        tait value1: attribute value1\n",
    "        tait value2: attribute value2\n",
    "        ...\n",
    "```\n",
    "If you have more than one traits, you need to set each trait separately in the yaml file.\n",
    "The following is an example."
   ]
  },
  {
   "cell_type": "code",
   "execution_count": null,
   "metadata": {},
   "outputs": [],
   "source": [
    "%%writefile data/default.yaml\n",
    "\n",
    "trait1:\n",
    "    fillcolor:\n",
    "        1: 'white'\n",
    "        2: 'dimgrey'\n",
    "        -9: 'aquamarine3'\n",
    "\n",
    "trait2:\n",
    "    style:\n",
    "        True: filled,setlinewidth(4)\n",
    "        False: filled\n",
    "    \n",
    "\n",
    "trait3:\n",
    "    fontcolor:\n",
    "        True: darkorange\n",
    "        False: black\n",
    "    "
   ]
  },
  {
   "cell_type": "code",
   "execution_count": null,
   "metadata": {},
   "outputs": [],
   "source": [
    "attrs=load_attributes('data/default.yaml')"
   ]
  },
  {
   "cell_type": "code",
   "execution_count": null,
   "metadata": {},
   "outputs": [],
   "source": [
    "attrs"
   ]
  },
  {
   "cell_type": "code",
   "execution_count": null,
   "metadata": {},
   "outputs": [],
   "source": []
  },
  {
   "cell_type": "markdown",
   "metadata": {},
   "source": [
    "### Two example pedigrees\n",
    "one is standard, one is extended with 3 traits."
   ]
  },
  {
   "cell_type": "markdown",
   "metadata": {},
   "source": [
    "#### Standard ped file"
   ]
  },
  {
   "cell_type": "code",
   "execution_count": null,
   "metadata": {},
   "outputs": [],
   "source": [
    "%%writefile data/example_fam.ped\n",
    "Fam\tF4\tP3\tF1\t1\t1\n",
    "Fam\tF3\tP3\tF1\t2\t1\n",
    "Fam\tF2\tP3\tF1\t2\t1\n",
    "Fam\tF1\tP1\tP2\t2\t2\n",
    "Fam\tP3\t0\t0\t1\t2\n",
    "Fam\tP1\t0\t0\t1\t-9\n",
    "Fam\tP2\t0\t0\t2\t-9"
   ]
  },
  {
   "cell_type": "code",
   "execution_count": null,
   "metadata": {},
   "outputs": [],
   "source": [
    "fam=readped('data/example_fam.ped')"
   ]
  },
  {
   "cell_type": "code",
   "execution_count": null,
   "metadata": {},
   "outputs": [],
   "source": [
    "fam"
   ]
  },
  {
   "cell_type": "code",
   "execution_count": null,
   "metadata": {},
   "outputs": [],
   "source": [
    "plotped(fam)"
   ]
  },
  {
   "cell_type": "code",
   "execution_count": null,
   "metadata": {},
   "outputs": [],
   "source": [
    "plotped(fam)"
   ]
  },
  {
   "cell_type": "markdown",
   "metadata": {},
   "source": [
    "#### Extended ped file"
   ]
  },
  {
   "cell_type": "code",
   "execution_count": null,
   "metadata": {},
   "outputs": [],
   "source": [
    "%%writefile data/example_fam_ext.ped\n",
    "Fam1\tF4\tP3\tF1\t1\t1\tTrue\tFalse\n",
    "Fam1\tF3\tP3\tF1\t2\t1\tTrue\tTrue\n",
    "Fam1\tF2\tP3\tF1\t2\t1\tTrue\tFalse\n",
    "Fam1\tF1\tP1\tP2\t2\t2\tTrue\tFalse\n",
    "Fam1\tP3\t0\t0\t1\t2\tTrue\tFalse\n",
    "Fam1\tP1\t0\t0\t1\t-9\tFalse\tTrue\n",
    "Fam1\tP2\t0\t0\t2\t-9\tFalse\tTrue"
   ]
  },
  {
   "cell_type": "code",
   "execution_count": null,
   "metadata": {},
   "outputs": [],
   "source": [
    "famext=readped('data/example_fam_ext.ped',attrs)"
   ]
  },
  {
   "cell_type": "code",
   "execution_count": null,
   "metadata": {
    "tags": []
   },
   "outputs": [],
   "source": [
    "famext"
   ]
  },
  {
   "cell_type": "code",
   "execution_count": null,
   "metadata": {},
   "outputs": [],
   "source": [
    "plotped(famext,attrs)"
   ]
  },
  {
   "cell_type": "code",
   "execution_count": null,
   "metadata": {},
   "outputs": [],
   "source": []
  },
  {
   "cell_type": "code",
   "execution_count": null,
   "metadata": {},
   "outputs": [],
   "source": [
    "dots=GraphPed(fam)"
   ]
  },
  {
   "cell_type": "code",
   "execution_count": null,
   "metadata": {},
   "outputs": [],
   "source": [
    "show(dots)"
   ]
  },
  {
   "cell_type": "markdown",
   "metadata": {},
   "source": [
    "### Write out plots"
   ]
  },
  {
   "cell_type": "code",
   "execution_count": null,
   "metadata": {},
   "outputs": [],
   "source": [
    "plotped(fam,output='data/exampleplots',format='png')"
   ]
  },
  {
   "cell_type": "markdown",
   "metadata": {},
   "source": [
    "Show the plot from `data/exampleplots/Fam.png`\n",
    "\n",
    "![data/exampleplots/Fam.png](data/exampleplots/Fam.png \"Fam.png\")"
   ]
  },
  {
   "cell_type": "markdown",
   "metadata": {},
   "source": [
    "## Real data examples"
   ]
  },
  {
   "cell_type": "code",
   "execution_count": null,
   "metadata": {},
   "outputs": [],
   "source": [
    "all_fam=readped('data/Fig_2_3_fam.ped')"
   ]
  },
  {
   "cell_type": "code",
   "execution_count": null,
   "metadata": {},
   "outputs": [],
   "source": [
    "all_fam"
   ]
  },
  {
   "cell_type": "markdown",
   "metadata": {},
   "source": [
    "#### Fig.1 The workflow of GraphPed"
   ]
  },
  {
   "cell_type": "markdown",
   "metadata": {},
   "source": [
    "show workflow"
   ]
  },
  {
   "cell_type": "markdown",
   "metadata": {},
   "source": [
    "#### Fig.2 The pedigrees of complex families"
   ]
  },
  {
   "cell_type": "code",
   "execution_count": null,
   "metadata": {
    "tags": []
   },
   "outputs": [],
   "source": [
    "plotped(all_fam[all_fam.fid=='25_2'])"
   ]
  },
  {
   "cell_type": "markdown",
   "metadata": {},
   "source": [
    "#### Fig.S2 The largest pedigree in ADSP"
   ]
  },
  {
   "cell_type": "code",
   "execution_count": null,
   "metadata": {},
   "outputs": [],
   "source": [
    "plotped(all_fam[all_fam.fid=='4_649'])"
   ]
  },
  {
   "cell_type": "code",
   "execution_count": null,
   "metadata": {},
   "outputs": [],
   "source": []
  },
  {
   "cell_type": "markdown",
   "metadata": {},
   "source": [
    "#### Fig.3 The pedigrees with incorrect information"
   ]
  },
  {
   "cell_type": "code",
   "execution_count": null,
   "metadata": {},
   "outputs": [],
   "source": [
    "plotped(all_fam[all_fam.fid=='10R_R99'])"
   ]
  },
  {
   "cell_type": "code",
   "execution_count": null,
   "metadata": {},
   "outputs": [],
   "source": []
  },
  {
   "cell_type": "markdown",
   "metadata": {},
   "source": [
    "#### Fig.4 The pedigrees with multiple phenotypes"
   ]
  },
  {
   "cell_type": "markdown",
   "metadata": {},
   "source": [
    "self-defined multiple-trait yaml"
   ]
  },
  {
   "cell_type": "code",
   "execution_count": null,
   "metadata": {},
   "outputs": [],
   "source": [
    "%%writefile data/self_defined_mutiple_traits.yaml\n",
    "\n",
    "ad:\n",
    "    fillcolor:\n",
    "        1: 'white'\n",
    "        2: 'dimgrey'\n",
    "        -9: 'aquamarine3'\n",
    "\n",
    "vcf:\n",
    "    style:\n",
    "        True: filled,setlinewidth(4)\n",
    "        False: filled\n",
    "    \n",
    "\n",
    "trim:\n",
    "    fontcolor:\n",
    "        True: darkorange\n",
    "        False: black\n",
    "    "
   ]
  },
  {
   "cell_type": "code",
   "execution_count": null,
   "metadata": {},
   "outputs": [],
   "source": [
    "attrs=load_attributes('data/self_defined_mutiple_traits.yaml')\n",
    "ped=readped('data/Fig4_fam_ext.ped',attrs)"
   ]
  },
  {
   "cell_type": "code",
   "execution_count": null,
   "metadata": {},
   "outputs": [],
   "source": [
    "ped"
   ]
  },
  {
   "cell_type": "code",
   "execution_count": null,
   "metadata": {},
   "outputs": [],
   "source": [
    "plotped(ped,attrs)"
   ]
  },
  {
   "cell_type": "code",
   "execution_count": null,
   "metadata": {},
   "outputs": [],
   "source": []
  },
  {
   "cell_type": "markdown",
   "metadata": {},
   "source": [
    "#### Show multiple figures with self-defined attributes"
   ]
  },
  {
   "cell_type": "markdown",
   "metadata": {},
   "source": [
    "self-defined single-trait yaml"
   ]
  },
  {
   "cell_type": "code",
   "execution_count": null,
   "metadata": {},
   "outputs": [],
   "source": [
    "%%writefile data/self_defined_single_trait.yaml\n",
    "\n",
    "ad:\n",
    "    fillcolor:\n",
    "        1: 'white'\n",
    "        2: 'dimgrey'\n",
    "        -9: 'aquamarine3'"
   ]
  },
  {
   "cell_type": "code",
   "execution_count": null,
   "metadata": {},
   "outputs": [],
   "source": [
    "attr=load_attributes('data/self_defined_single_trait.yaml')\n",
    "all_fam=readped('data/Fig_2_3_fam.ped',attr)"
   ]
  },
  {
   "cell_type": "code",
   "execution_count": null,
   "metadata": {},
   "outputs": [],
   "source": [
    "all_fam"
   ]
  },
  {
   "cell_type": "code",
   "execution_count": null,
   "metadata": {},
   "outputs": [],
   "source": [
    "dots=GraphPed(all_fam,attr)\n",
    "show(dots)"
   ]
  },
  {
   "cell_type": "code",
   "execution_count": null,
   "metadata": {},
   "outputs": [],
   "source": []
  }
 ],
 "metadata": {
  "kernelspec": {
   "display_name": "Python 3 (ipykernel)",
   "language": "python",
   "name": "python3"
  },
  "language_info": {
   "codemirror_mode": {
    "name": "ipython",
    "version": 3
   },
   "file_extension": ".py",
   "mimetype": "text/x-python",
   "name": "python",
   "nbconvert_exporter": "python",
   "pygments_lexer": "ipython3",
   "version": "3.10.2"
  }
 },
 "nbformat": 4,
 "nbformat_minor": 4
}
